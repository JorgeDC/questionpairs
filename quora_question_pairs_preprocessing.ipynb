{
 "cells": [
  {
   "cell_type": "code",
   "execution_count": 43,
   "metadata": {
    "collapsed": false,
    "deletable": true,
    "editable": true
   },
   "outputs": [],
   "source": [
    "import pandas as pd\n",
    "import codecs\n",
    "\n",
    "\n",
    "TRAIN_CSV_ENGLISH = \"data/train.csv\"\n",
    "english_train = pd.read_csv(TRAIN_CSV_ENGLISH)\n",
    "\n",
    "questions_cols = ['question1', 'question2']\n",
    "\n",
    "f = codecs.open('dutch_formated_for_translation.txt','w', 'utf-8-sig')\n",
    "\n",
    "# Iterate over the questions only of both training and test datasets\n",
    "for dataset in [english_train]:\n",
    "    for index, row in dataset.iterrows():\n",
    "          # Iterate through the text of both questions of the row\n",
    "            f.write(\":questionEntry\\n\" + str(row[\"id\"]) + \"\\n\" +str(row[\"question1\"]) + \"\\n\" + str(row[\"question2\"]) + \"\\n\\n\")\n",
    "\n",
    "            \n",
    "f.close()"
   ]
  },
  {
   "cell_type": "code",
   "execution_count": null,
   "metadata": {
    "collapsed": false,
    "deletable": true,
    "editable": true
   },
   "outputs": [],
   "source": []
  },
  {
   "cell_type": "code",
   "execution_count": 2,
   "metadata": {
    "collapsed": false,
    "deletable": true,
    "editable": true
   },
   "outputs": [
    {
     "name": "stdout",
     "output_type": "stream",
     "text": [
      "done\n"
     ]
    }
   ],
   "source": [
    "import itertools as it\n",
    "import csv\n",
    "import pandas as pd\n",
    "from io import StringIO\n",
    "\n",
    "with open(\"dutch_data/dutch_formatted_as_csv.csv\", 'w',encoding='utf8') as to_write:\n",
    "    with open(\"dutch_data/training_formatted.txt\", 'r',encoding='utf8') as f:\n",
    "        csv_file =  pd.read_csv(\"data/train.csv\")\n",
    "        to_write.write(\"\\\"id\\\",\\\"qid1\\\",\\\"qid2\\\",\\\"question1\\\",\\\"question2\\\",\\\"is_duplicate\\\"\\n\")\n",
    "        for key,group in it.groupby(f,lambda line: line.startswith(': questionEntry')):\n",
    "            if not key:\n",
    "                group = list(group)\n",
    "                identifier = group[0].replace(\"\\n\", \"\").replace(\".\", \"\").replace(\",\", \"\").replace(\" \", \"\")\n",
    "                question1 = group[1].replace(\"\\n\", \"\").replace(\"\\\"\", \"\").replace(\"\\'\", \"\")\n",
    "                question2 = group[2].replace(\"\\n\", \"\").replace(\"\\\"\", \"\").replace(\"\\'\", \"\")\n",
    "                rowIndex = csv_file.loc[csv_file['id'] == int(identifier)].index.values[0]\n",
    "                to_write.write(\"\\\"\" + str(csv_file.get_value(rowIndex, \"id\")) + \"\\\",\\\"\"  + str(csv_file.get_value(rowIndex, \"qid1\")) + \"\\\",\\\"\"  + str(csv_file.get_value(rowIndex, \"qid2\")) + \"\\\",\\\"\" +  str(question1) + \"\\\",\\\"\" + str(question2) + \"\\\",\\\"\" + str(csv_file.get_value(rowIndex, \"is_duplicate\")) + \"\\\"\\n\")\n",
    "f.close()\n",
    "to_write.close()\n",
    "print(\"done\")"
   ]
  },
  {
   "cell_type": "code",
   "execution_count": null,
   "metadata": {
    "collapsed": true,
    "deletable": true,
    "editable": true
   },
   "outputs": [],
   "source": []
  }
 ],
 "metadata": {
  "kernelspec": {
   "display_name": "Python 3",
   "language": "python",
   "name": "python3"
  },
  "language_info": {
   "codemirror_mode": {
    "name": "ipython",
    "version": 3
   },
   "file_extension": ".py",
   "mimetype": "text/x-python",
   "name": "python",
   "nbconvert_exporter": "python",
   "pygments_lexer": "ipython3",
   "version": "3.5.3"
  }
 },
 "nbformat": 4,
 "nbformat_minor": 2
}
